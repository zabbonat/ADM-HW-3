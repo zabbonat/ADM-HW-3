{
 "cells": [
  {
   "cell_type": "code",
   "execution_count": 13,
   "metadata": {},
   "outputs": [
    {
     "name": "stdout",
     "output_type": "stream",
     "text": [
      "dataminingsapienza\n",
      "The length of the longest possible subsequence that can be read in the same way forward and backwards is 7\n"
     ]
    }
   ],
   "source": [
    "#We create a two dimensional matrix of nxn dimension and we follow a dynamic program approach to get the length on the longest palindrome and display it.\n",
    "#So, first of all, we create a two dimentional array M[n][n] where n is the string(s) length and we initialize the \n",
    "#matrix with 0.\n",
    "\n",
    "s = input()\n",
    "\n",
    "n = len(s) \n",
    "\n",
    "M = [[0 for _ in range(n)] for _ in range(n)] \n",
    "\n",
    "#For example, for our case s= 'dataminingsapienza' we'll have a matrix whose dimensions are 18x18\n",
    "#M is going to store the length of the longest palindromic subsequence of substring s. \n",
    "#We will iterate through the string and when we run into matching letters.\n",
    "#It starts from the top left element [0,0] and diagonally iterate through to the bottom right element (n,n) where n is \n",
    "#the number of elements. \n",
    "#The diagonal of the matrix is so filled with 1 because for each character there is a palindrome of size 1.\n",
    "\n",
    "for i in range(n, -1, -1):\n",
    "    for j in range(i, n):\n",
    "        if i==j:                          \n",
    "             M[i][j] = 1\n",
    "\n",
    "#Now, if we consider sequences with n>= 3 , it can be consider as the following:\n",
    "\n",
    "#s[i] = s[j] (the end characters match): M[i][j] will store the length of longest palindrome formed \n",
    "#by the remaining characters.(If they are the same it increases the value from the left diagonal with 2)\n",
    "\n",
    "#s[i] != s[j] (they don't match): M[i][j] will store the maximum of the length of the longest palindrome substring composed\n",
    "#by the first two characters or the length of longest palindrome formed by the last two characters.\n",
    "\n",
    "        elif s[i]==s[j]:                  \n",
    "            M[i][j] = M[i+1][j-1]+2\n",
    "        elif s[i]!=s[j]:                       \n",
    "            M[i][j] = max(M[i][j-1], M[i+1][j])\n",
    "            \n",
    "#The length of the longest possible subsequence that can be read in the same way forward and backwards is:\n",
    "\n",
    "longestpalindrome=M[0][-1]\n",
    "print(\"The length of the longest possible subsequence that can be read in the same way forward and backwards is\", str(longestpalindrome))\n",
    "\n",
    "#OUTPUT\n",
    "# s= 'dataminingsapienza'\n",
    "# The length of the longest possible subsequence that can be read in the same way forward and backwards is 7\n"
   ]
  }
 ],
 "metadata": {
  "kernelspec": {
   "display_name": "Python 3",
   "language": "python",
   "name": "python3"
  },
  "language_info": {
   "codemirror_mode": {
    "name": "ipython",
    "version": 3
   },
   "file_extension": ".py",
   "mimetype": "text/x-python",
   "name": "python",
   "nbconvert_exporter": "python",
   "pygments_lexer": "ipython3",
   "version": "3.7.3"
  }
 },
 "nbformat": 4,
 "nbformat_minor": 2
}
